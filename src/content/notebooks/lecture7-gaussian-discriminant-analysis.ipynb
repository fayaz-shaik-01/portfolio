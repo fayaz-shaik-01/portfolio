{
 "cells": [
  {
   "cell_type": "code",
   "execution_count": null,
   "metadata": {},
   "outputs": [],
   "source": [
    "# --- Metadata for Learn section ---\n",
    "title = \"GDA\"\n",
    "readingTime = \"21\"\n",
    "tags = [\"Machine Learning\", \"Regression\", \"Statistics\"]\n",
    "published = True"
   ]
  },
  {
   "cell_type": "markdown",
   "metadata": {
    "colab_type": "text",
    "id": "i_f5u2x9nn6I",
    "slideshow": {
     "slide_type": "slide"
    }
   },
   "source": [
    "# Lecture 7: Gaussian Discriminant Analysis\n"
   ]
  },
  {
   "cell_type": "markdown",
   "metadata": {
    "slideshow": {
     "slide_type": "slide"
    }
   },
   "source": [
    "# 7.1. Revisiting Generative Models\n",
    "\n",
    "In the last lecture, we introduced generative modeling and Naive Bayes. In this lecture, we will see more examples of generative models, namely Gaussian Discriminant Analysis.\n",
    "\n",
    "Let's first review generative models and their distinction from discriminative models through a simple classification problem.\n"
   ]
  },
  {
   "cell_type": "markdown",
   "metadata": {
    "slideshow": {
     "slide_type": "slide"
    }
   },
   "source": [
    "## 7.1.1. The Iris Flowers Dataset\n",
    "\n",
    "As a motivating problem for this lecture, we are going to use the Iris flower dataset ([R. A. Fisher, 1936](https://en.wikipedia.org/wiki/Ronald_Fisher)). Recall that our task is to classify subspecies of Iris flowers based on their measurements. \n",
    "\n",
    "First, let’s load the dataset and print the examples from the dataset."
   ]
  },
  {
   "cell_type": "code",
   "execution_count": null,
   "metadata": {
    "slideshow": {
     "slide_type": "subslide"
    }
   },
   "outputs": [
    {
     "data": {
      "text/html": [
       "<div>\n",
       "<style scoped>\n",
       "    .dataframe tbody tr th:only-of-type {\n",
       "        vertical-align: middle;\n",
       "    }\n",
       "\n",
       "    .dataframe tbody tr th {\n",
       "        vertical-align: top;\n",
       "    }\n",
       "\n",
       "    .dataframe thead th {\n",
       "        text-align: right;\n",
       "    }\n",
       "</style>\n",
       "<table border=\"1\" class=\"dataframe\">\n",
       "  <thead>\n",
       "    <tr style=\"text-align: right;\">\n",
       "      <th></th>\n",
       "      <th>sepal length (cm)</th>\n",
       "      <th>sepal width (cm)</th>\n",
       "      <th>petal length (cm)</th>\n",
       "      <th>petal width (cm)</th>\n",
       "      <th>target</th>\n",
       "    </tr>\n",
       "  </thead>\n",
       "  <tbody>\n",
       "    <tr>\n",
       "      <th>0</th>\n",
       "      <td>5.1</td>\n",
       "      <td>3.5</td>\n",
       "      <td>1.4</td>\n",
       "      <td>0.2</td>\n",
       "      <td>0</td>\n",
       "    </tr>\n",
       "    <tr>\n",
       "      <th>1</th>\n",
       "      <td>4.9</td>\n",
       "      <td>3.0</td>\n",
       "      <td>1.4</td>\n",
       "      <td>0.2</td>\n",
       "      <td>0</td>\n",
       "    </tr>\n",
       "    <tr>\n",
       "      <th>2</th>\n",
       "      <td>4.7</td>\n",
       "      <td>3.2</td>\n",
       "      <td>1.3</td>\n",
       "      <td>0.2</td>\n",
       "      <td>0</td>\n",
       "    </tr>\n",
       "    <tr>\n",
       "      <th>3</th>\n",
       "      <td>4.6</td>\n",
       "      <td>3.1</td>\n",
       "      <td>1.5</td>\n",
       "      <td>0.2</td>\n",
       "      <td>0</td>\n",
       "    </tr>\n",
       "    <tr>\n",
       "      <th>4</th>\n",
       "      <td>5.0</td>\n",
       "      <td>3.6</td>\n",
       "      <td>1.4</td>\n",
       "      <td>0.2</td>\n",
       "      <td>0</td>\n",
       "    </tr>\n",
       "  </tbody>\n",
       "</table>\n",
       "</div>"
      ],
      "text/plain": [
       "   sepal length (cm)  sepal width (cm)  petal length (cm)  petal width (cm)  \\\n",
       "0                5.1               3.5                1.4               0.2   \n",
       "1                4.9               3.0                1.4               0.2   \n",
       "2                4.7               3.2                1.3               0.2   \n",
       "3                4.6               3.1                1.5               0.2   \n",
       "4                5.0               3.6                1.4               0.2   \n",
       "\n",
       "   target  \n",
       "0       0  \n",
       "1       0  \n",
       "2       0  \n",
       "3       0  \n",
       "4       0  "
      ]
     },
     "execution_count": 11,
     "metadata": {},
     "output_type": "execute_result"
    }
   ],
   "source": [
    "import numpy as np\n",
    "import pandas as pd\n",
    "import warnings\n",
    "warnings.filterwarnings('ignore')\n",
    "from sklearn import datasets\n",
    "\n",
    "# Load the Iris dataset\n",
    "iris = datasets.load_iris(as_frame=True)\n",
    "\n",
    "# print part of the dataset\n",
    "iris_X, iris_y = iris.data, iris.target\n",
    "pd.concat([iris_X, iris_y], axis=1).head()"
   ]
  },
  {
   "cell_type": "markdown",
   "metadata": {
    "slideshow": {
     "slide_type": "subslide"
    }
   },
   "source": [
    "If we only consider the first two feature columns, we can visualize the dataset in 2D."
   ]
  },
  {
   "cell_type": "code",
   "execution_count": 12,
   "metadata": {
    "slideshow": {
     "slide_type": "fragment"
    }
   },
   "outputs": [
    {
     "data": {
      "text/plain": [
       "<matplotlib.legend.Legend at 0x7f7b6107ed00>"
      ]
     },
     "execution_count": 12,
     "metadata": {},
     "output_type": "execute_result"
    },
    {
     "data": {
      "image/png": "[encoded data removed]",
      "text/plain": [
       "<Figure size 864x288 with 1 Axes>"
      ]
     },
     "metadata": {
      "needs_background": "light"
     },
     "output_type": "display_data"
    }
   ],
   "source": [
    "# https://scikit-learn.org/stable/auto_examples/neighbors/plot_classification.html\n",
    "%matplotlib inline\n",
    "from matplotlib import pyplot as plt\n",
    "plt.rcParams['figure.figsize'] = [12, 4]\n",
    "\n",
    "# create 2d version of dataset\n",
    "X = iris_X.to_numpy()[:,:2]\n",
    "x_min, x_max = X[:, 0].min() - .5, X[:, 0].max() + .5\n",
    "y_min, y_max = X[:, 1].min() - .5, X[:, 1].max() + .5\n",
    "\n",
    "# Plot also the training points\n",
    "p1 = plt.scatter(X[:, 0], X[:, 1], c=iris_y, edgecolor='k', s=60, cmap=plt.cm.Paired)\n",
    "plt.xlabel('Sepal Length (cm)')\n",
    "plt.ylabel('Sepal Width (cm)')\n",
    "plt.legend(handles=p1.legend_elements()[0], labels=['Setosa', 'Versicolour', 'Virginica'], loc='lower right')"
   ]
  },
  {
   "cell_type": "markdown",
   "metadata": {
    "slideshow": {
     "slide_type": "slide"
    }
   },
   "source": [
    "## 7.1.2. Review: Discriminative Models\n",
    "\n",
    "Most models we have seen so far have been *discriminative*: \n",
    "\n",
    "* They directly transforms $x$ into a score for each class $y$ (e.g., via the formula $y=\\sigma(\\theta^\\top x)$)\n",
    "\n",
    "* They can be interpreted as defining a *conditional* probability $P_\\theta(y|x)$"
   ]
  },
  {
   "cell_type": "markdown",
   "metadata": {
    "slideshow": {
     "slide_type": "subslide"
    }
   },
   "source": [
    "For example, logistic regression is a binary classification algorithm which uses a model \n",
    "$$f_\\theta : \\mathcal{X} \\to [0,1]$$ \n",
    "of the form\n",
    "$$ f_\\theta(x) = \\sigma(\\theta^\\top x) = \\frac{1}{1 + \\exp(-\\theta^\\top x)}, $$\n",
    "where $\\sigma(z) = \\frac{1}{1 + \\exp(-z)}$ is the *sigmoid* or *logistic* function."
   ]
  },
  {
   "cell_type": "markdown",
   "metadata": {
    "slideshow": {
     "slide_type": "fragment"
    }
   },
   "source": [
    "The logistic model defines (\"parameterizes\") a probability distribution $P_\\theta(y|x) : \\mathcal{X} \\times \\mathcal{Y} \\to [0,1]$ as follows:\n",
    "\n",
    "\\begin{align*}\n",
    "P_\\theta(y=1 | x) & = \\sigma(\\theta^\\top x) \\\\\n",
    "P_\\theta(y=0 | x) & = 1-\\sigma(\\theta^\\top x).\n",
    "\\end{align*}"
   ]
  },
  {
   "cell_type": "markdown",
   "metadata": {
    "slideshow": {
     "slide_type": "skip"
    }
   },
   "source": [
    "Logistic regression optimizes the following objective defined over a binary classification dataset  $\\mathcal{D} = \\{(x^{(1)}, y^{(1)}), (x^{(2)}, y^{(2)}), \\ldots, (x^{(n)}, y^{(n)})\\}$.\n",
    "\\begin{align*}\n",
    "\\ell(\\theta) & = \\frac{1}{n}\\sum_{i=1}^n \\log P_\\theta (y^{(i)} \\mid x^{(i)}) \\\\\n",
    "& = \\frac{1}{n}\\sum_{i=1}^n {y^{(i)}} \\cdot \\log \\sigma(\\theta^\\top x^{(i)}) + (1-y^{(i)}) \\cdot \\log (1-\\sigma(\\theta^\\top x^{(i)})).\n",
    "\\end{align*}\n",
    "\n",
    "This objective is also often called the log-loss, or cross-entropy. This asks the model to output a large score $\\sigma(\\theta^\\top x^{(i)})$ (a score that's close to one) if $y^{(i)}=1$, and a score that's small (close to zero) if $y^{(i)}=0$."
   ]
  },
  {
   "cell_type": "markdown",
   "metadata": {
    "slideshow": {
     "slide_type": "subslide"
    }
   },
   "source": [
    "Now, let's train logistic/softmax regression on this dataset."
   ]
  },
  {
   "cell_type": "code",
   "execution_count": 13,
   "metadata": {
    "slideshow": {
     "slide_type": "fragment"
    }
   },
   "outputs": [
    {
     "data": {
      "text/plain": [
       "LogisticRegression(C=100000.0)"
      ]
     },
     "execution_count": 13,
     "metadata": {},
     "output_type": "execute_result"
    }
   ],
   "source": [
    "from matplotlib import pyplot as plt\n",
    "plt.rcParams['figure.figsize'] = [12, 4]\n",
    "from sklearn.linear_model import LogisticRegression\n",
    "logreg = LogisticRegression(C=1e5)\n",
    "\n",
    "# Create an instance of Logistic Regression Classifier and fit the data.\n",
    "X = iris_X.to_numpy()[:,:2]\n",
    "# rename class two to class one\n",
    "Y = iris_y.copy()\n",
    "logreg.fit(X, Y) "
   ]
  },
  {
   "cell_type": "markdown",
   "metadata": {
    "slideshow": {
     "slide_type": "subslide"
    }
   },
   "source": [
    "We visualize the regions predicted to be associated with the blue, brown, and yellow classes and the lines between them are the decision boundaries."
   ]
  },
  {
   "cell_type": "code",
   "execution_count": 14,
   "metadata": {
    "slideshow": {
     "slide_type": "fragment"
    }
   },
   "outputs": [
    {
     "data": {
      "image/png": "[encoded data removed]",
      "text/plain": [
       "<Figure size 864x288 with 1 Axes>"
      ]
     },
     "metadata": {
      "needs_background": "light"
     },
     "output_type": "display_data"
    }
   ],
   "source": [
    "xx, yy = np.meshgrid(np.arange(4, 8.2, .02), np.arange(1.8, 4.5, .02))\n",
    "Z = logreg.predict(np.c_[xx.ravel(), yy.ravel()])\n",
    "\n",
    "# Put the result into a color plot\n",
    "Z = Z.reshape(xx.shape)\n",
    "plt.pcolormesh(xx, yy, Z, cmap=plt.cm.Paired)\n",
    "\n",
    "# Plot also the training points\n",
    "plt.scatter(X[:, 0], X[:, 1], c=Y, edgecolors='k', cmap=plt.cm.Paired, s=50)\n",
    "plt.xlabel('Sepal length')\n",
    "plt.ylabel('Sepal width')\n",
    "\n",
    "plt.show()"
   ]
  },
  {
   "cell_type": "markdown",
   "metadata": {
    "slideshow": {
     "slide_type": "slide"
    }
   },
   "source": [
    "## 7.1.3. Review: Generative Models\n",
    "\n",
    "Another approach to classification is to use *generative* models.\n",
    "\n",
    "* A generative approach first builds a model of $x$ for each class:\n",
    "$$ P_\\theta(x | y=k) \\; \\text{for each class $k$}.$$\n",
    "$P_\\theta(x | y=k)$ *scores* each $x$ according to how well it matches class $k$."
   ]
  },
  {
   "cell_type": "markdown",
   "metadata": {
    "slideshow": {
     "slide_type": "fragment"
    }
   },
   "source": [
    "* A class probability $P_\\theta(y=k)$ encoding our prior beliefs\n",
    "$$ P_\\theta(y=k) \\; \\text{for each class $k$}.$$\n",
    "These are often just the % of each class in the data."
   ]
  },
  {
   "cell_type": "markdown",
   "metadata": {
    "slideshow": {
     "slide_type": "subslide"
    }
   },
   "source": [
    "In the context of Iris flower classification, we would fit three models on a labeled corpus:\n",
    "\n",
    "\\begin{align*}\n",
    "P_\\theta(x|y=\\text{0}) && P_\\theta(x|y=\\text{1}) && P_\\theta(x|y=\\text{2})\n",
    "\\end{align*}\n",
    "\n",
    "We would also define priors $P_\\theta(y=\\text{0}), P_\\theta(y=\\text{1}),P_\\theta(y=\\text{2})$.\n",
    "\n",
    "$P_\\theta(x | y=k)$ *scores* each $x$ based on how much it looks like class $k$."
   ]
  },
  {
   "cell_type": "markdown",
   "metadata": {
    "slideshow": {
     "slide_type": "skip"
    }
   },
   "source": [
    "### 7.1.3.1. Probabilistic Interpretations\n",
    "\n",
    "A *generative* model defines $P_\\theta(x|y)$ and $P_\\theta(y)$, thus it also defines a distribution of the form $P_\\theta(x,y)$.\n",
    "\n",
    "\\begin{align*}\n",
    "\\underbrace{P_\\theta(x,y) : \\mathcal{X} \\times \\mathcal{Y} \\to [0,1]}_\\text{generative model} & \\;\\; & \\underbrace{P_\\theta(y|x) : \\mathcal{X} \\times \\mathcal{Y} \\to [0,1]}_\\text{discriminative model}\n",
    "\\end{align*}\n",
    "\n",
    "Discriminative models don't define any probability over the $x$'s. Generative models do."
   ]
  },
  {
   "cell_type": "markdown",
   "metadata": {
    "slideshow": {
     "slide_type": "skip"
    }
   },
   "source": [
    "We can learn a generative model $P_\\theta(x, y)$ by maximizing the *likelihood*:\n",
    "\n",
    "$$ \\max_\\theta \\frac{1}{n}\\sum_{i=1}^n \\log P_\\theta({x}^{(i)}, y^{(i)}). $$\n",
    "\n",
    "This says that we should choose parameters $\\theta$ such that the model $P_\\theta$ assigns a high probability to each training example $(x^{(i)}, y^{(i)})$ in the dataset $\\mathcal{D}$."
   ]
  },
  {
   "cell_type": "markdown",
   "metadata": {
    "slideshow": {
     "slide_type": "slide"
    }
   },
   "source": [
    "# 7.2. Gaussian Mixture Models\n",
    "\n",
    "Next, we will define another generative model: Gaussian mixtures."
   ]
  },
  {
   "cell_type": "markdown",
   "metadata": {
    "slideshow": {
     "slide_type": "slide"
    }
   },
   "source": [
    "## 7.2.1. Review and Motivation \n",
    "\n",
    "### 7.2.1.1. Review of Distributions\n",
    "#### Categorical Distribution\n",
    "\n",
    "A [Categorical](https://en.wikipedia.org/wiki/Categorical_distribution) distribution with parameters $\\theta$ is a probability\n",
    "over $K$ discrete outcomes $x \\in \\{1,2,...,K\\}$:\n",
    "\n",
    "$$\n",
    "P_\\theta(x = j) = \\theta_j.\n",
    "$$\n",
    "\n",
    "When $K=2$ this is called the [Bernoulli](https://en.wikipedia.org/wiki/Bernoulli_distribution).\n",
    "####  Normal (Gaussian) Distribution\n",
    "\n",
    "A [multivariate normal](https://en.wikipedia.org/wiki/Multivariate_normal_distribution) distribution $P_\\theta(x) : \\mathcal{X} \\to [0,1]$ with parameters $\\theta = (\\mu, \\Sigma)$\n",
    "is a probability over a $d$-dimensional $x \\in \\mathbb{R}^d$\n",
    "\n",
    "$$\n",
    "P_\\theta(x; \\mu, \\Sigma) = \\frac{1}{\\sqrt{(2 \\pi)^d | \\Sigma |}} \\exp\\left(-\\frac{1}{2} (x - \\mu)^\\top \\Sigma^{-1} (x-\\mu) \\right)\n",
    "$$\n",
    "\n",
    "In one dimension, this reduces to $\\frac{1}{\\sqrt{2 \\pi}\\sigma} \\exp\\left(-\\frac{(x - \\mu)^2}{2\\sigma^2} \\right)$.\n",
    "\n",
    "### 7.2.1.2. A Generative Model for Iris Flowers\n",
    "\n",
    "To define a generative model for Iris flowers, we need to define three probabilities:\n",
    "\\begin{align*}\n",
    "P_\\theta(x|y=\\text{0}) && P_\\theta(x|y=\\text{1}) && P_\\theta(x|y=\\text{2})\n",
    "\\end{align*}\n",
    "We also define priors $P_\\theta(y=\\text{0}), P_\\theta(y=\\text{1}), P_\\theta(y=\\text{2})$.\n",
    "\n",
    "Each model $P_\\theta(x | y=k)$ *scores* $x$ based on how much it looks like class $k$.\n",
    "The inputs $x$ are vectors of features for the flowers.\n",
    "How do we choose $P_\\theta(x|y=k)$?"
   ]
  },
  {
   "cell_type": "markdown",
   "metadata": {
    "slideshow": {
     "slide_type": "subslide"
    }
   },
   "source": [
    "This what the density of a Normal distribution looks like in 2D:\n",
    "\n",
    "<center><img width=70% src=\"img/multivariate_gaussian1.png\"></center>"
   ]
  },
  {
   "cell_type": "markdown",
   "metadata": {
    "slideshow": {
     "slide_type": "subslide"
    }
   },
   "source": [
    "This is how we can visualize it in a 2D plane:\n",
    "\n",
    "<center><img width=70% src=\"img/multivariate_gaussian2.png\"></center>"
   ]
  },
  {
   "cell_type": "markdown",
   "metadata": {
    "slideshow": {
     "slide_type": "slide"
    }
   },
   "source": [
    "## 7.2.2. Gaussian Mixture Model\n",
    "\n",
    "A *Gaussian mixture* model (GMM) $P_\\theta(x,y)$ is defined for *real-valued data* $x \\in \\mathbb{R}^d$."
   ]
  },
  {
   "cell_type": "markdown",
   "metadata": {
    "slideshow": {
     "slide_type": "fragment"
    }
   },
   "source": [
    "The $\\theta$ contains prior parameters $\\vec\\phi = (\\phi_1,...,\\phi_K)$ and $K$ sets of per-class Gaussian parameters $\\mu_k, \\Sigma_k$."
   ]
  },
  {
   "cell_type": "markdown",
   "metadata": {
    "slideshow": {
     "slide_type": "fragment"
    }
   },
   "source": [
    "The probability of the data $x$ for each class is a multivariate Gaussian\n",
    "$$P_\\theta(x|y=k) = \\mathcal{N}(x ; \\mu_k, \\Sigma_k).$$\n",
    "\n",
    "The probability over $y$ is Categorical:\n",
    "$P_\\theta(y=k) = \\phi_k$."
   ]
  },
  {
   "cell_type": "markdown",
   "metadata": {
    "slideshow": {
     "slide_type": "slide"
    }
   },
   "source": [
    "### 7.2.2.1. Why Mixtures of Distributions?\n",
    "\n",
    "A single distribution (e.g., a Gaussian) can be too simple to fit the data. We can form more complex distributions by *mixing* $K$ simple ones:\n",
    "\n",
    "$$ P_\\theta(x) = \\phi_1 P_1(x ;\\theta_1) + \\phi_2 P_2(x ;\\theta_2) + \\ldots + \\phi_1 P_K(x ;\\theta_K) $$\n",
    "\n",
    "where the $\\phi_k \\in [0,1]$ are the weights of each distribution."
   ]
  },
  {
   "cell_type": "markdown",
   "metadata": {
    "slideshow": {
     "slide_type": "fragment"
    }
   },
   "source": [
    "A mixture of $K$ Gaussians is a distribution $P(x)$ of the form:\n",
    "$$\\phi_1 \\mathcal{N}(x; \\mu_1, \\Sigma_1) + \\phi_2 \\mathcal{N}(x; \\mu_2, \\Sigma_2) + \\ldots + \\phi_K \\mathcal{N}(x; \\mu_K, \\Sigma_K).$$"
   ]
  },
  {
   "cell_type": "markdown",
   "metadata": {
    "slideshow": {
     "slide_type": "subslide"
    }
   },
   "source": [
    "Mixtures can express distributions that a single mixture component can't:\n",
    "\n",
    "<center><img width=65% src=\"img/mogdensity1d_v2.png\"></center>\n",
    "\n",
    "Here, we have a mixture of 3 Gaussians."
   ]
  },
  {
   "cell_type": "markdown",
   "metadata": {
    "slideshow": {
     "slide_type": "skip"
    }
   },
   "source": [
    "We can also represent a mixture of distributions by introducing $y \\in \\{1,2,...,K\\}$ and a distribution over $(x,y)$ of the form\n",
    "$$ P_\\theta(x,y) = P_\\theta(x|y) P_\\theta(y)$$\n",
    "that has two components:\n",
    "\n",
    "* The distribution $P_\\theta(y=k) = \\pi_k$ encodes the mixture weights.\n",
    "\n",
    "* The distribution $P_\\theta(x|y=k) = P_k(x; \\theta_k)$ encodes the $k$-th mixed distribution."
   ]
  },
  {
   "cell_type": "markdown",
   "metadata": {
    "slideshow": {
     "slide_type": "skip"
    }
   },
   "source": [
    "This is a mixture of distributions because:\n",
    "\\begin{align*}\n",
    "P_\\theta(x) & = \\sum_{k=1}^K P_\\theta(x|y=k)P_\\theta(y=k) \\\\\n",
    "& = \\pi_1 P_1(x ;\\theta_1) + \\pi_2 P_2(x ;\\theta_2) + \\ldots + \\pi_1 P_K(x ;\\theta_K)\n",
    "\\end{align*}"
   ]
  },
  {
   "cell_type": "markdown",
   "metadata": {
    "slideshow": {
     "slide_type": "slide"
    }
   },
   "source": [
    "### 7.2.2.2. GMMs Are Indeed Mixtures\n",
    "\n",
    "The Gaussian Mixture Model is an example of a mixture of $K$ distributions with mixing weights $\\phi_k = P(y=k)$:\n",
    "$$P_\\theta(x) = \\sum_{k=1}^K P_\\theta(y=k) P_\\theta(x|y=k) = \\sum_{k=1}^K \\phi_k \\mathcal{N}(x; \\mu_k, \\Sigma_k)$$"
   ]
  },
  {
   "cell_type": "markdown",
   "metadata": {
    "slideshow": {
     "slide_type": "skip"
    }
   },
   "source": [
    "Intuitively, this model defines a story for how the data was generated. To obtain a data point,\n",
    "\n",
    "* First, we sample a class $y \\sim \\text{Categorical}(\\phi_1, \\phi_2, ..., \\phi_K)$ with class proportions given by the $\\phi_k$.\n",
    "\n",
    "* Then, we sample an $x$ from a Gaussian distribution $\\mathcal{N}(\\mu_k, \\Sigma_k)$ specific to that class.\n",
    "\n",
    "Such a story can be constructed for most generative algorithms and helps understand them."
   ]
  },
  {
   "cell_type": "markdown",
   "metadata": {
    "slideshow": {
     "slide_type": "subslide"
    }
   },
   "source": [
    "Mixtures of Gaussians fit more complex distributions than one Gaussian.\n",
    "\n",
    "The figures below illustrate how the mixture of two Gaussians can model the distribution composed of two separate clusters, which are poorly represented by a single Gaussian. \n",
    "\n",
    "Raw data | Single Gaussian | Mixture of Gaussians\n",
    "--|--|---\n",
    "<img width=90% src=\"img/oldfaithful_v2.png\"> | <img width=90% src=\"img/oldfSingle_v2.png\"> | <img width=90% src=\"img/oldfMOG_v2.png\">"
   ]
  },
  {
   "cell_type": "markdown",
   "metadata": {
    "slideshow": {
     "slide_type": "skip"
    }
   },
   "source": [
    "### 7.2.2.3. Predictions Out of Gaussian Mixture Models\n",
    "\n",
    "Given a trained model $P_\\theta (x,z) = P_\\theta (x | z) P_\\theta (z)$, we can look at the *posterior* probability\n",
    "$$P_\\theta(z = k\\mid x) = \\frac{P_\\theta(z=k, x)}{P_\\theta(x)} = \\frac{P_\\theta(x | z=k) P_\\theta(z=k)}{\\sum_{l=1}^K P_\\theta(x | z=l) P_\\theta(z=l)}$$\n",
    "of a point $x$ belonging to class $k$."
   ]
  },
  {
   "cell_type": "markdown",
   "metadata": {
    "slideshow": {
     "slide_type": "slide"
    }
   },
   "source": [
    "# 7.3. Gaussian Discriminant Analysis\n",
    "\n",
    "Next, we will use GMMs as the basis for a new generative classification algorithm, Gaussian Discriminant Analysis (GDA)."
   ]
  },
  {
   "cell_type": "markdown",
   "metadata": {
    "slideshow": {
     "slide_type": "slide"
    }
   },
   "source": [
    "## 7.3.1. Review: Maximum Likelihood Learning\n",
    "\n",
    "We can learn a generative model $P_\\theta(x, y)$ by maximizing the *maximum likelihood*:\n",
    "\n",
    "$$ \\max_\\theta \\frac{1}{n}\\sum_{i=1}^n \\log P_\\theta({x}^{(i)}, y^{(i)}). $$\n",
    "\n",
    "This seeks to find parameters $\\theta$ such that the model assigns high probability to the training data."
   ]
  },
  {
   "cell_type": "markdown",
   "metadata": {
    "slideshow": {
     "slide_type": "fragment"
    }
   },
   "source": [
    "Let's use maximum likelihood to fit the Gaussian Discriminant model. Note that model parameters $\\theta$ are the union of the parameters of each sub-model:\n",
    "$$\\theta = (\\mu_1, \\Sigma_1, \\phi_1, \\ldots, \\mu_K, \\Sigma_K, \\phi_K).$$\n"
   ]
  },
  {
   "cell_type": "markdown",
   "metadata": {
    "slideshow": {
     "slide_type": "skip"
    }
   },
   "source": [
    "Mathematically, the components of the model $P_\\theta(x,y)$ are as follows.\n",
    "\\begin{align*}\n",
    "P_\\theta(y) & = \\frac{\\prod_{k=1}^K \\phi_k^{\\mathbb{I}\\{y = y_k\\}}}{\\sum_{k=1}^k \\phi_k} \\\\\n",
    "P_\\theta(x|y=k) & = \\frac{1}{(2\\pi)^{d/2}|\\Sigma|^{1/2}} \\exp(-\\frac{1}{2}(x-\\mu_k)^\\top\\Sigma_k^{-1}(x-\\mu_k))\n",
    "\\end{align*}"
   ]
  },
  {
   "cell_type": "markdown",
   "metadata": {
    "slideshow": {
     "slide_type": "slide"
    }
   },
   "source": [
    "## 7.3.2. Optimizing the Log Likelihood\n",
    "\n",
    "Given a dataset $\\mathcal{D} = \\{(x^{(i)}, y^{(i)})\\mid i=1,2,\\ldots,n\\}$, we want to optimize the log-likelihood $\\ell(\\theta)$:\n",
    "\\begin{align*}\n",
    "\\ell(\\theta) & = \\sum_{i=1}^n \\log P_\\theta(x^{(i)}, y^{(i)}) = \\sum_{i=1}^n \\log P_\\theta(x^{(i)} | y^{(i)}) + \\sum_{i=1}^n \\log P_\\theta(y^{(i)}) \\\\\n",
    "& = \\sum_{k=1}^K  \\underbrace{\\sum_{i : y^{(i)} = k} \\log P(x^{(i)} | y^{(i)} ; \\mu_k, \\Sigma_k)}_\\text{all the terms that involve $\\mu_k, \\Sigma_k$} + \\underbrace{\\sum_{i=1}^n \\log P(y^{(i)} ; \\vec \\phi)}_\\text{all the terms that involve $\\vec \\phi$}.\n",
    "\\end{align*}"
   ]
  },
  {
   "cell_type": "markdown",
   "metadata": {
    "slideshow": {
     "slide_type": "fragment"
    }
   },
   "source": [
    "In equality #2, we use the fact that $P_\\theta(x,y)=P_\\theta(y) P_\\theta(x|y)$; in the third one, we change the order of summation."
   ]
  },
  {
   "cell_type": "markdown",
   "metadata": {
    "slideshow": {
     "slide_type": "subslide"
    }
   },
   "source": [
    "Each $\\mu_k, \\Sigma_k$ for $k=1,2,\\ldots,K$ is found in only the following terms:\n",
    "\\begin{align*}\n",
    "\\max_{\\mu_k, \\Sigma_k} \\sum_{i=1}^n \\log P_\\theta(x^{(i)}, y^{(i)})\n",
    "& = \\max_{\\mu_k, \\Sigma_k} \\sum_{l=1}^K  \\sum_{i : y^{(i)} = l} \\log P_\\theta(x^{(i)} | y^{(i)} ; \\mu_l, \\Sigma_l) \\\\\n",
    "& = \\max_{\\mu_k, \\Sigma_k} \\sum_{i : y^{(i)} = k} \\log P_\\theta(x^{(i)} | y^{(i)} ; \\mu_k, \\Sigma_k).\n",
    "\\end{align*}\n",
    "Thus, optimization over $\\mu_k, \\Sigma_k$ can be carried out independently of all the other parameters by just looking at these terms."
   ]
  },
  {
   "cell_type": "markdown",
   "metadata": {
    "slideshow": {
     "slide_type": "fragment"
    }
   },
   "source": [
    "Similarly, optimizing for $\\vec \\phi = (\\phi_1, \\phi_2, \\ldots, \\phi_K)$ only involves a few terms:\n",
    "$$ \\max_{\\vec \\phi} \\sum_{i=1}^n \\log P_\\theta(x^{(i)}, y^{(i)} ; \\theta) = \\max_{\\vec\\phi} \\\n",
    "\\sum_{i=1}^n  \\log P_\\theta(y^{(i)} ; \\vec \\phi). $$"
   ]
  },
  {
   "cell_type": "markdown",
   "metadata": {
    "slideshow": {
     "slide_type": "slide"
    }
   },
   "source": [
    "### 7.3.2.1. Learning the Parameters $\\phi$\n",
    "\n",
    "Let's first consider the optimization over $\\vec \\phi = (\\phi_1, \\phi_2, \\ldots, \\phi_K)$. \n",
    "$$ \\max_{\\vec \\phi} \\sum_{i=1}^n  \\log P_\\theta(y=y^{(i)} ; \\vec \\phi). $$\n",
    "* We have $n$ datapoints. Each point has a label $k\\in\\{1,2,...,K\\}$.\n",
    "\n",
    "* Our model is a categorical and assigns a probability $\\phi_k$ to each outcome $k\\in\\{1,2,...,K\\}$.\n",
    "\n",
    "* We want to infer $\\phi_k$ assuming our dataset is sampled from the model.\n",
    "\n",
    "What are the maximum likelihood $\\phi_k$ that are most likely to have generated our data? \n",
    "Intuitively, the maximum likelihood class probabilities $\\phi$ should just be the class proportions that we see in the data. \n"
   ]
  },
  {
   "cell_type": "markdown",
   "metadata": {
    "slideshow": {
     "slide_type": "subslide"
    }
   },
   "source": [
    "Let's calculate this formally. Our objective $J(\\vec \\phi)$ equals\n",
    "\\begin{align*}\n",
    "J(\\vec\\phi) & = \\sum_{i=1}^n  \\log P_\\theta(y^{(i)} ; \\vec \\phi) \\\\\n",
    "& = \\sum_{i=1}^n \\log \\phi_{y^{(i)}} - n \\cdot \\log \\sum_{k=1}^K \\phi_k \\\\ \n",
    "& = \\sum_{k=1}^K \\sum_{i : y^{(i)} = k} \\log \\phi_k - n \\cdot \\log \\sum_{k=1}^K \\phi_k\n",
    "\\end{align*}"
   ]
  },
  {
   "cell_type": "markdown",
   "metadata": {},
   "source": [
    "Taking the partial derivative with respect to $\\phi_k$:\n",
    "\\begin{align*}\n",
    "\\frac{\\partial}{\\partial_{\\phi_k}} J(\\vec\\phi) \n",
    "& = \\frac{\\partial}{\\partial_{\\phi_k}} \\left (\\sum_{l=1}^K \\sum_{i : y^{(i)} = l} \\log \\phi_l - n \\cdot \\log \\sum_{l=1}^K \\phi_l \\right) \\\\\n",
    "& = \\frac{\\partial}{\\partial_{\\phi_k}} \\sum_{i : y^{(i)} = k} \\log \\phi_k - \\frac{\\partial}{\\partial_{\\phi_k}} n \\cdot \\log \\sum_{l=1}^K \\phi_l \\\\\n",
    "& = n_k \\cdot \\frac{\\partial}{\\partial_{\\phi_k}} \\log \\phi_k - n \\cdot \\frac{\\partial}{\\partial_{\\phi_k}}  \\log \\sum_{l=1}^K \\phi_l \\\\\n",
    "& =  \\frac{n_k}{\\phi_k} - \\frac{n}{\\sum_{l=1}^K \\phi_l}\n",
    "\\end{align*}\n",
    "\n",
    "Setting this derivative to zero, we obtain \n",
    "$$ \\frac{\\phi_k}{\\sum_l \\phi_l} = \\frac{n_k}{n}$$\n",
    "for each $k$, where $n_k = |\\{i : y^{(i)} = k\\}|$ is the number of training targets with class $k$. Thus, the optimal $\\phi_k$ is just the proportion of data points with class $k$ in the training set!\n",
    "\n"
   ]
  },
  {
   "cell_type": "markdown",
   "metadata": {
    "slideshow": {
     "slide_type": "slide"
    }
   },
   "source": [
    "### 7.3.2.2. Learning the Parameters $\\mu_k, \\Sigma_k$\n",
    "\n",
    "Next, let's look at the maximum likelihood term\n",
    "$$\\max_{\\mu_k, \\Sigma_k} \\sum_{i : y^{(i)} = k} \\log \\mathcal{N}(x^{(i)} | \\mu_k, \\Sigma_k)$$\n",
    "over the Gaussian parameters $\\mu_k, \\Sigma_k$."
   ]
  },
  {
   "cell_type": "markdown",
   "metadata": {
    "slideshow": {
     "slide_type": "fragment"
    }
   },
   "source": [
    "* Our dataset are all the points $x$ for which $y=k$.\n",
    "\n",
    "* We want to learn the mean and variance $\\mu_k, \\Sigma_k$ of a normal distribution that generates this data.\n",
    "\n",
    "What is the maximum likelihood $\\mu_k, \\Sigma_k$ in this case?"
   ]
  },
  {
   "cell_type": "markdown",
   "metadata": {
    "slideshow": {
     "slide_type": "subslide"
    }
   },
   "source": [
    "Computing the derivative and setting it to zero, we obtain closed form solutions:\n",
    "\\begin{align*}\n",
    "\\mu_k & = \\frac{\\sum_{i: y^{(i)} = k} x^{(i)}}{n_k} \\\\\n",
    "\\Sigma_k & = \\frac{\\sum_{i: y^{(i)} = k} (x^{(i)} - \\mu_k)(x^{(i)} - \\mu_k)^\\top}{n_k} \\\\\n",
    "\\end{align*}\n",
    "These are just the empirical means and covariances of each class."
   ]
  },
  {
   "cell_type": "markdown",
   "metadata": {
    "slideshow": {
     "slide_type": "slide"
    }
   },
   "source": [
    "### 7.3.2.3. Querying the Model\n",
    "\n",
    "How do we ask the model for predictions? As discussed earlier, we can apply Bayes' rule:\n",
    "$$\\arg\\max_y P_\\theta(y|x) = \\arg\\max_y P_\\theta(x|y)P(y).$$\n",
    "Thus, we can estimate the probability of $x$ and under each $P_\\theta(x|y=k)P(y=k)$ and choose the class that explains the data best."
   ]
  },
  {
   "cell_type": "markdown",
   "metadata": {
    "slideshow": {
     "slide_type": "slide"
    }
   },
   "source": [
    "## 7.3.3. Algorithm: Gaussian Discriminant Analysis (GDA)\n",
    "\n",
    "The above procedure describes an example of generative models---Gaussian Discriminant Analysis (GDA). We can succinctly define GDA in terms of the algorithm components.\n",
    "\n",
    "* __Type__: Supervised learning (multi-class classification)\n",
    "\n",
    "* __Model family__: Mixtures of Gaussians.\n",
    "\n",
    "* __Objective function__: Log-likelihood.\n",
    "\n",
    "* __Optimizer__: Closed form solution."
   ]
  },
  {
   "cell_type": "markdown",
   "metadata": {
    "slideshow": {
     "slide_type": "slide"
    }
   },
   "source": [
    "### 7.3.3.1. Example: Iris Flower Classification\n",
    "\n",
    "Let's see how this approach can be used in practice on the Iris dataset.\n",
    "\n",
    "* We will learn the maximum likelihood GDA parameters\n",
    "\n",
    "* We will compare the outputs to the true predictions."
   ]
  },
  {
   "cell_type": "markdown",
   "metadata": {
    "slideshow": {
     "slide_type": "subslide"
    }
   },
   "source": [
    "Let's first start by computing the true parameters on our dataset."
   ]
  },
  {
   "cell_type": "code",
   "execution_count": 15,
   "metadata": {
    "slideshow": {
     "slide_type": "fragment"
    }
   },
   "outputs": [
    {
     "name": "stdout",
     "output_type": "stream",
     "text": [
      "[[5.006 3.428]\n",
      " [5.936 2.77 ]\n",
      " [6.588 2.974]]\n"
     ]
    }
   ],
   "source": [
    "# we can implement these formulas over the Iris dataset\n",
    "d = 2 # number of features in our toy dataset\n",
    "K = 3 # number of classes\n",
    "n = X.shape[0] # size of the dataset\n",
    "\n",
    "# these are the shapes of the parameters\n",
    "mus = np.zeros([K,d])\n",
    "Sigmas = np.zeros([K,d,d])\n",
    "phis = np.zeros([K])\n",
    "\n",
    "# we now compute the parameters\n",
    "for k in range(3):\n",
    "    X_k = X[iris_y == k]\n",
    "    mus[k] = np.mean(X_k, axis=0)\n",
    "    Sigmas[k] = np.cov(X_k.T)\n",
    "    phis[k] = X_k.shape[0] / float(n)\n",
    "\n",
    "# print out the means\n",
    "print(mus)"
   ]
  },
  {
   "cell_type": "markdown",
   "metadata": {
    "slideshow": {
     "slide_type": "subslide"
    }
   },
   "source": [
    "We can compute predictions using Bayes' rule."
   ]
  },
  {
   "cell_type": "code",
   "execution_count": 16,
   "metadata": {
    "slideshow": {
     "slide_type": "fragment"
    }
   },
   "outputs": [
    {
     "name": "stdout",
     "output_type": "stream",
     "text": [
      "[0 0 0 0 0 0 0 0 0 0 0 0 0 0 0 0 0 0 0 0 0 0 0 0 0 0 0 0 0 0 0 0 0 0 0 0 0\n",
      " 0 0 0 0 1 0 0 0 0 0 0 0 0 2 2 2 1 2 1 2 1 2 1 1 1 1 1 1 2 1 1 1 1 1 1 2 1\n",
      " 2 2 2 2 1 1 1 1 1 1 1 2 2 2 1 1 1 1 1 1 1 1 1 1 1 1 2 1 2 2 2 2 1 2 2 2 2\n",
      " 2 2 1 1 2 2 2 2 1 2 1 2 1 2 2 1 1 2 2 2 2 2 1 1 2 2 2 1 2 2 2 1 2 2 2 2 2\n",
      " 2 1]\n"
     ]
    }
   ],
   "source": [
    "# we can implement this in numpy\n",
    "def gda_predictions(x, mus, Sigmas, phis):\n",
    "    \"\"\"This returns class assignments and p(y|x) under the GDA model.\n",
    "    \n",
    "    We compute \\arg\\max_y p(y|x) as \\arg\\max_y p(x|y)p(y)\n",
    "    \"\"\"\n",
    "    # adjust shapes\n",
    "    n, d = x.shape\n",
    "    x = np.reshape(x, (1, n, d, 1))\n",
    "    mus = np.reshape(mus, (K, 1, d, 1))\n",
    "    Sigmas = np.reshape(Sigmas, (K, 1, d, d))    \n",
    "    \n",
    "    # compute probabilities\n",
    "    py = np.tile(phis.reshape((K,1)), (1,n)).reshape([K,n,1,1])\n",
    "    pxy = (\n",
    "        np.sqrt(np.abs((2*np.pi)**d*np.linalg.det(Sigmas))).reshape((K,1,1,1)) \n",
    "        * -.5*np.exp(\n",
    "            np.matmul(np.matmul((x-mus).transpose([0,1,3,2]), np.linalg.inv(Sigmas)), x-mus)\n",
    "        )\n",
    "    )\n",
    "    pyx = pxy * py\n",
    "    return pyx.argmax(axis=0).flatten(), pyx.reshape([K,n])\n",
    "\n",
    "idx, pyx = gda_predictions(X, mus, Sigmas, phis)\n",
    "print(idx)"
   ]
  },
  {
   "cell_type": "markdown",
   "metadata": {
    "slideshow": {
     "slide_type": "subslide"
    }
   },
   "source": [
    "We visualize the decision boundaries like we did earlier. The figure illustrates that three Gaussians learned through Gaussian Discriminant Analysis split the data points from three classes reasonably."
   ]
  },
  {
   "cell_type": "code",
   "execution_count": 17,
   "metadata": {
    "slideshow": {
     "slide_type": "fragment"
    }
   },
   "outputs": [
    {
     "data": {
      "image/png": "[encoded data removed]",
      "text/plain": [
       "<Figure size 864x288 with 1 Axes>"
      ]
     },
     "metadata": {
      "needs_background": "light"
     },
     "output_type": "display_data"
    }
   ],
   "source": [
    "from matplotlib.colors import LogNorm\n",
    "xx, yy = np.meshgrid(np.arange(x_min, x_max, .02), np.arange(y_min, y_max, .02))\n",
    "Z, pyx = gda_predictions(np.c_[xx.ravel(), yy.ravel()], mus, Sigmas, phis)\n",
    "logpy = np.log(-1./3*pyx)\n",
    "\n",
    "# Put the result into a color plot\n",
    "Z = Z.reshape(xx.shape)\n",
    "contours = np.zeros([K, xx.shape[0], xx.shape[1]])\n",
    "for k in range(K):\n",
    "    contours[k] = logpy[k].reshape(xx.shape)\n",
    "plt.pcolormesh(xx, yy, Z, cmap=plt.cm.Paired)\n",
    "for k in range(K):\n",
    "    plt.contour(xx, yy, contours[k], levels=np.logspace(0, 1, 1))\n",
    "\n",
    "# Plot also the training points\n",
    "plt.scatter(X[:, 0], X[:, 1], c=iris_y, edgecolors='k', cmap=plt.cm.Paired)\n",
    "plt.xlabel('Sepal length')\n",
    "plt.ylabel('Sepal width')\n",
    "\n",
    "plt.show()"
   ]
  },
  {
   "cell_type": "markdown",
   "metadata": {
    "slideshow": {
     "slide_type": "slide"
    }
   },
   "source": [
    "### 7.3.3.2. Special Cases of GDA\n",
    "\n",
    "Many important generative algorithms are special cases of Gaussian Discriminative Analysis\n",
    "\n",
    "* Linear discriminant analysis (LDA): all the covariance matrices $\\Sigma_k$ take the same value.\n",
    "\n",
    "* Gaussian Naive Bayes: all the covariance matrices $\\Sigma_k$ are diagonal.\n",
    "\n",
    "* Quadratic discriminant analysis (QDA): another term for GDA."
   ]
  },
  {
   "cell_type": "markdown",
   "metadata": {
    "slideshow": {
     "slide_type": "slide"
    }
   },
   "source": [
    "# 7.4. Discriminative vs. Generative Algorithms\n",
    "\n",
    "We conclude our lectures on generative algorithms by revisiting the question of how they compare to discriminative algorithms."
   ]
  },
  {
   "cell_type": "markdown",
   "metadata": {
    "slideshow": {
     "slide_type": "slide"
    }
   },
   "source": [
    "## 7.4.1. Linear Discriminant Analysis\n",
    "\n",
    "When the covariances $\\Sigma_k$ in GDA are equal, we have an algorithm called Linear Discriminant Analysis or LDA.\n",
    "\n",
    "The probability of the data $x$ for each class is a multivariate Gaussian with the same covariance $\\Sigma$.\n",
    "$$P_\\theta(x|y=k) = \\mathcal{N}(x ; \\mu_k, \\Sigma).$$\n",
    "\n",
    "The probability over $y$ is Categorical:\n",
    "$P_\\theta(y=k) = \\phi_k$."
   ]
  },
  {
   "cell_type": "markdown",
   "metadata": {
    "slideshow": {
     "slide_type": "subslide"
    }
   },
   "source": [
    "Let's try this algorithm on the Iris flower dataset.\n",
    "\n",
    "We compute the model parameters similarly to how we did for GDA."
   ]
  },
  {
   "cell_type": "code",
   "execution_count": 18,
   "metadata": {
    "slideshow": {
     "slide_type": "fragment"
    }
   },
   "outputs": [
    {
     "name": "stdout",
     "output_type": "stream",
     "text": [
      "[[5.006 3.428]\n",
      " [5.936 2.77 ]\n",
      " [6.588 2.974]]\n"
     ]
    }
   ],
   "source": [
    "# we can implement these formulas over the Iris dataset\n",
    "d = 2 # number of features in our toy dataset\n",
    "K = 3 # number of clases\n",
    "n = X.shape[0] # size of the dataset\n",
    "\n",
    "# these are the shapes of the parameters\n",
    "mus = np.zeros([K,d])\n",
    "Sigmas = np.zeros([K,d,d])\n",
    "phis = np.zeros([K])\n",
    "\n",
    "# we now compute the parameters\n",
    "for k in range(3):\n",
    "    X_k = X[iris_y == k]\n",
    "    mus[k] = np.mean(X_k, axis=0)\n",
    "    Sigmas[k] = np.cov(X.T) # this is now X.T instead of X_k.T\n",
    "    phis[k] = X_k.shape[0] / float(n)\n",
    "\n",
    "# print out the means\n",
    "print(mus)"
   ]
  },
  {
   "cell_type": "markdown",
   "metadata": {
    "slideshow": {
     "slide_type": "subslide"
    }
   },
   "source": [
    "We can compute predictions using Bayes' rule."
   ]
  },
  {
   "cell_type": "code",
   "execution_count": 19,
   "metadata": {
    "slideshow": {
     "slide_type": "fragment"
    }
   },
   "outputs": [
    {
     "name": "stdout",
     "output_type": "stream",
     "text": [
      "[0 0 0 0 0 0 0 0 0 0 0 0 0 0 0 0 0 0 0 0 0 0 0 0 0 0 0 0 0 0 0 0 0 0 0 0 0\n",
      " 0 0 0 0 1 0 0 0 0 0 0 0 0 2 2 2 1 2 1 2 1 2 1 1 1 1 1 1 2 1 1 1 1 2 1 1 1\n",
      " 2 2 2 2 1 1 1 1 1 1 1 2 2 1 1 1 1 1 1 1 1 1 1 1 1 1 2 1 2 2 2 2 1 2 1 2 2\n",
      " 1 2 1 1 2 2 2 2 1 2 1 2 1 2 2 1 1 2 2 2 2 2 1 1 2 2 2 1 2 2 2 1 2 2 2 1 2\n",
      " 2 1]\n"
     ]
    }
   ],
   "source": [
    "# we can implement this in numpy\n",
    "def gda_predictions(x, mus, Sigmas, phis):\n",
    "    \"\"\"This returns class assignments and p(y|x) under the GDA model.\n",
    "    \n",
    "    We compute \\arg\\max_y p(y|x) as \\arg\\max_y p(x|y)p(y)\n",
    "    \"\"\"\n",
    "    # adjust shapes\n",
    "    n, d = x.shape\n",
    "    x = np.reshape(x, (1, n, d, 1))\n",
    "    mus = np.reshape(mus, (K, 1, d, 1))\n",
    "    Sigmas = np.reshape(Sigmas, (K, 1, d, d))    \n",
    "    \n",
    "    # compute probabilities\n",
    "    py = np.tile(phis.reshape((K,1)), (1,n)).reshape([K,n,1,1])\n",
    "    pxy = (\n",
    "        np.sqrt(np.abs((2*np.pi)**d*np.linalg.det(Sigmas))).reshape((K,1,1,1)) \n",
    "        * -.5*np.exp(\n",
    "            np.matmul(np.matmul((x-mus).transpose([0,1,3,2]), np.linalg.inv(Sigmas)), x-mus)\n",
    "        )\n",
    "    )\n",
    "    pyx = pxy * py\n",
    "    return pyx.argmax(axis=0).flatten(), pyx.reshape([K,n])\n",
    "\n",
    "idx, pyx = gda_predictions(X, mus, Sigmas, phis)\n",
    "print(idx)"
   ]
  },
  {
   "cell_type": "markdown",
   "metadata": {
    "slideshow": {
     "slide_type": "subslide"
    }
   },
   "source": [
    "We visualize predictions like we did earlier. "
   ]
  },
  {
   "cell_type": "code",
   "execution_count": 20,
   "metadata": {
    "slideshow": {
     "slide_type": "fragment"
    }
   },
   "outputs": [
    {
     "data": {
      "image/png": "[encoded data removed]",
      "text/plain": [
       "<Figure size 864x288 with 1 Axes>"
      ]
     },
     "metadata": {
      "needs_background": "light"
     },
     "output_type": "display_data"
    }
   ],
   "source": [
    "from matplotlib.colors import LogNorm\n",
    "xx, yy = np.meshgrid(np.arange(x_min, x_max, .02), np.arange(y_min, y_max, .02))\n",
    "Z, pyx = gda_predictions(np.c_[xx.ravel(), yy.ravel()], mus, Sigmas, phis)\n",
    "logpy = np.log(-1./3*pyx)\n",
    "\n",
    "# Put the result into a color plot\n",
    "Z = Z.reshape(xx.shape)\n",
    "contours = np.zeros([K, xx.shape[0], xx.shape[1]])\n",
    "for k in range(K):\n",
    "    contours[k] = logpy[k].reshape(xx.shape)\n",
    "plt.pcolormesh(xx, yy, Z, cmap=plt.cm.Paired)\n",
    "\n",
    "# Plot also the training points\n",
    "plt.scatter(X[:, 0], X[:, 1], c=iris_y, edgecolors='k', cmap=plt.cm.Paired)\n",
    "plt.xlabel('Sepal length')\n",
    "plt.ylabel('Sepal width')\n",
    "\n",
    "plt.show()"
   ]
  },
  {
   "cell_type": "markdown",
   "metadata": {
    "slideshow": {
     "slide_type": "subslide"
    }
   },
   "source": [
    "Linear Discriminant Analysis outputs decision boundaries that are linear, just like Logistic/Softmax Regression."
   ]
  },
  {
   "cell_type": "markdown",
   "metadata": {
    "slideshow": {
     "slide_type": "skip"
    }
   },
   "source": [
    "Softmax or Logistic regression also produce linear boundaries. In fact, both types of algorithms make use of the same model class.\n",
    "\n",
    "What is their difference then?"
   ]
  },
  {
   "cell_type": "markdown",
   "metadata": {
    "slideshow": {
     "slide_type": "slide"
    }
   },
   "source": [
    "### 7.4.1.1.  What Is the LDA Model Class?\n",
    "\n",
    "We can derive a formula for $P_\\theta(y|x)$ in a Bernoulli Naive Bayes or LDA model when $K=2$:\n",
    "$$ P_\\theta(y|x) = \\frac{P_\\theta(x|y)P_\\theta(y)}{\\sum_{y'\\in \\mathcal{Y}}P_\\theta(x|y')P_\\theta(y')} = \\frac{1}{1+\\exp(-\\gamma^\\top x)} $$\n",
    "for some set of parameters $\\gamma$ (whose expression can be derived from $\\theta$). "
   ]
  },
  {
   "cell_type": "markdown",
   "metadata": {
    "slideshow": {
     "slide_type": "fragment"
    }
   },
   "source": [
    "This is the same form as Logistic Regression! Does it mean that the two sets of algorithms are equivalent? "
   ]
  },
  {
   "cell_type": "markdown",
   "metadata": {
    "slideshow": {
     "slide_type": "fragment"
    }
   },
   "source": [
    "No! They assume the same model class $\\mathcal{M}$, they use a different objective $J$ to select a model in $\\mathcal{M}$."
   ]
  },
  {
   "cell_type": "markdown",
   "metadata": {
    "slideshow": {
     "slide_type": "slide"
    }
   },
   "source": [
    "### 7.4.1.2. LDA vs. Logistic Regression\n",
    "\n",
    "We describe the procedure of LDA above, and here we summarize the differences between the generative model LDA and the discriminative models NB and logistic regression.\n",
    "\n",
    "* Bernoulli Naive Bayes or LDA assumes a logistic form for $P(y|x)$. But the converse is not true: logistic regression does not assume a NB or LDA model for $P(x,y)$.\n",
    "\n",
    "* Generative models make stronger modeling assumptions. If these assumptions hold true, the generative models will perform better.\n",
    "\n",
    "* But if they don't, logistic regression will be more robust to outliers and model misspecification, and achieve higher accuracy."
   ]
  },
  {
   "cell_type": "markdown",
   "metadata": {
    "slideshow": {
     "slide_type": "slide"
    }
   },
   "source": [
    "## 7.4.2. Generative Models vs. Discriminative Models\n",
    "\n",
    "Finally, we are revisiting the question of when we want to use generative models or discriminative models.\n",
    "\n",
    "Discriminative algorithms are deservingly very popular. \n",
    "\n",
    "* Most state-of-the-art algorithms for classification are discriminative (including neural nets, boosting, SVMs, etc.)\n",
    "\n",
    "* They are often more accurate because they make fewer modeling assumptions.\n",
    "\n",
    "But generative models can do things that discriminative models can't do. \n",
    "\n",
    "* __Generation__: we can sample $x \\sim p(x|y)$ to generate new data (images, audio).\n",
    "\n",
    "* __Missing value imputation__: if $x_j$ is missing, we infer it using $p(x|y)$.\n",
    "\n",
    "* __Outlier detection__: we may detect via $p(x')$ if $x'$ is an outlier.\n",
    "\n",
    "* __Scalability__: Simple formulas for maximum likelihood parameters.\n",
    "\n",
    "And generative algorithms also have many other advantages:\n",
    "\n",
    "* Can do more than just prediction: generation, fill-in missing features, etc.\n",
    "\n",
    "* Can include extra prior knowledge; if prior knowledge is correct, model will be more accurate.\n",
    "\n",
    "* Often have closed-form solutions, hence are faster to train."
   ]
  },
  {
   "cell_type": "markdown",
   "metadata": {},
   "source": []
  }
 ],
 "metadata": {
  "accelerator": "GPU",
  "celltoolbar": "Slideshow",
  "colab": {
   "collapsed_sections": [],
   "name": "neural-ode.ipynb",
   "provenance": []
  },
  "kernelspec": {
   "display_name": "base",
   "language": "python",
   "name": "python3"
  },
  "language_info": {
   "codemirror_mode": {
    "name": "ipython",
    "version": 3
   },
   "file_extension": ".py",
   "mimetype": "text/x-python",
   "name": "python",
   "nbconvert_exporter": "python",
   "pygments_lexer": "ipython3",
   "version": "3.9.7 (default, Sep 16 2021, 08:50:36) \n[Clang 10.0.0 ]"
  },
  "rise": {
   "controlsTutorial": false,
   "height": 900,
   "help": false,
   "margin": 0,
   "maxScale": 2,
   "minScale": 0.2,
   "progress": true,
   "scroll": true,
   "theme": "simple",
   "width": 1200
  },
  "vscode": {
   "interpreter": {
    "hash": "ef00738ab2ac5b55d71f6cd45654b385bbd5ee220e17f6377d19f93947830664"
   }
  }
 },
 "nbformat": 4,
 "nbformat_minor": 1
}
